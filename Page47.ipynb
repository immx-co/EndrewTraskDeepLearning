{
 "cells": [
  {
   "cell_type": "code",
   "execution_count": 3,
   "id": "607788dd",
   "metadata": {},
   "outputs": [],
   "source": [
    "def w_sum(a, b):\n",
    "    assert(len(a) == len(b))\n",
    "    output = 0\n",
    "    \n",
    "    for i in range(len(a)):\n",
    "        output += (a[i] * b[i])\n",
    "    \n",
    "    return output"
   ]
  },
  {
   "cell_type": "code",
   "execution_count": 4,
   "id": "92e3a4b2",
   "metadata": {},
   "outputs": [],
   "source": [
    "weights = [0.1, 0.2, 0]\n",
    "def neural_network(iinput, weights):\n",
    "    pred = w_sum(iinput, weights)\n",
    "    return pred"
   ]
  },
  {
   "cell_type": "code",
   "execution_count": null,
   "id": "5100d4b7",
   "metadata": {},
   "outputs": [],
   "source": []
  },
  {
   "cell_type": "code",
   "execution_count": 5,
   "id": "7294654e",
   "metadata": {},
   "outputs": [],
   "source": [
    "toes = [8.5, 9.5, 9.9, 9.0]\n",
    "wlrec = [0.65, 0.8, 0.8, 0.9]\n",
    "nfans = [1.2, 1.3, 0.5, 1.0]"
   ]
  },
  {
   "cell_type": "code",
   "execution_count": 6,
   "id": "3bddbefe",
   "metadata": {},
   "outputs": [],
   "source": [
    "iinput = [toes[0], wlrec[0], nfans[0]]\n",
    "pred = neural_network(iinput, weights)"
   ]
  },
  {
   "cell_type": "code",
   "execution_count": 7,
   "id": "0326a859",
   "metadata": {},
   "outputs": [
    {
     "data": {
      "text/plain": [
       "0.9800000000000001"
      ]
     },
     "execution_count": 7,
     "metadata": {},
     "output_type": "execute_result"
    }
   ],
   "source": [
    "pred"
   ]
  },
  {
   "cell_type": "code",
   "execution_count": null,
   "id": "126d9f14",
   "metadata": {},
   "outputs": [],
   "source": [
    "def elementwise_multiplication(vec_a, vec_b):\n",
    "    output = 0\n",
    "    \n",
    "    for i in range(len(vec_a)):\n",
    "        output += vec_a[i] * vec_b[i]\n",
    "    return output\n",
    "        \n",
    "def elementwise_addition(vec_a, vec_b):\n",
    "    output = 0\n",
    "    \n",
    "    for i in range(len(vec_a)):\n",
    "        output += vec_a[i] + vec_b[i]\n",
    "    return output\n",
    "        \n",
    "def vector_sum(vec_a):\n",
    "    return sum(vec_a)\n",
    "\n",
    "def vector_average(vec_a):\n",
    "    return sum(vec_a) / len(vec_a)"
   ]
  }
 ],
 "metadata": {
  "kernelspec": {
   "display_name": "Python 3",
   "language": "python",
   "name": "python3"
  },
  "language_info": {
   "codemirror_mode": {
    "name": "ipython",
    "version": 3
   },
   "file_extension": ".py",
   "mimetype": "text/x-python",
   "name": "python",
   "nbconvert_exporter": "python",
   "pygments_lexer": "ipython3",
   "version": "3.8.6"
  }
 },
 "nbformat": 4,
 "nbformat_minor": 5
}
