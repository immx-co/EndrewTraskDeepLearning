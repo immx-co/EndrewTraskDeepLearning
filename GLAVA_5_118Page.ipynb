{
 "cells": [
  {
   "cell_type": "code",
   "execution_count": 3,
   "id": "154c0906",
   "metadata": {},
   "outputs": [],
   "source": [
    "def ele_mul(number, vector):\n",
    "    output = [0, 0, 0]\n",
    "    \n",
    "    assert(len(output) == len(vector))\n",
    "    \n",
    "    for i in range(len(vector)):\n",
    "        output[i] = number * vector[i]\n",
    "    \n",
    "    return output\n"
   ]
  },
  {
   "cell_type": "code",
   "execution_count": 4,
   "id": "ee216f86",
   "metadata": {},
   "outputs": [],
   "source": [
    "weights = [0.3, 0.2, 0.9]\n",
    "\n",
    "def neural_network(input, weights):\n",
    "    pred = ele_mul(input, weights)\n",
    "    return pred"
   ]
  },
  {
   "cell_type": "code",
   "execution_count": 6,
   "id": "8060c28e",
   "metadata": {},
   "outputs": [],
   "source": [
    "wlrec = [0.65, 1.0, 1.0, 0.9]\n",
    "\n",
    "hurt = [0.1, 0.0, 0.0, 0.1]\n",
    "win = [1, 1, 0, 1]\n",
    "sad = [0.1, 0.0, 0.1, 0.2]\n",
    "\n",
    "input = wlrec[0]\n",
    "true = [hurt[0], win[0], sad[0]]\n",
    "\n",
    "pred = neural_network(input, weights)\n",
    "\n",
    "error = [0, 0, 0]\n",
    "delta = [0, 0, 0]\n",
    "\n",
    "for i in range(len(true)):\n",
    "    error[i] = (pred[i] - true[i]) ** 2\n",
    "    delta[i] = pred[i] - true[i]"
   ]
  },
  {
   "cell_type": "code",
   "execution_count": 7,
   "id": "f8a9027f",
   "metadata": {},
   "outputs": [],
   "source": [
    "def scalar_ele_mul(number, vector):\n",
    "    output = [0, 0, 0]\n",
    "    \n",
    "    assert (len(output) == len(vector))\n",
    "    \n",
    "    for i in range(len(vector)):\n",
    "        output[i] = number * vector[i]\n",
    "        \n",
    "    return output\n",
    "\n",
    "wlrec = [0.65, 1.0, 1.0, 0.9]\n",
    "\n",
    "hurt = [0.1, 0.0, 0.0, 0.1]\n",
    "win = [1, 1, 0, 1]\n",
    "sad = [0.1, 0.0, 0.1, 0.2]\n",
    "\n",
    "input = wlrec[0]\n",
    "true = [hurt[0], win[0], sad[0]]\n",
    "\n",
    "pred = neural_network(input, weights)\n",
    "\n",
    "error = [0, 0, 0]\n",
    "delta = [0, 0, 0]\n",
    "\n",
    "for i in range(len(true)):\n",
    "    error[i] = (pred[i] - true[i]) ** 2\n",
    "    delta[i] = pred[i] - true[i]\n",
    "    \n",
    "weight_deltas = scalar_ele_mul(input, weights)"
   ]
  },
  {
   "cell_type": "code",
   "execution_count": 10,
   "id": "76e79c4c",
   "metadata": {},
   "outputs": [
    {
     "name": "stdout",
     "output_type": "stream",
     "text": [
      "Weights: [0.28049999999999997, 0.187, 0.8415]\n",
      "Weight deltas: [0.195, 0.13, 0.5850000000000001]\n"
     ]
    }
   ],
   "source": [
    "input = wlrec[0]\n",
    "true = [hurt[0], win[0], sad[0]]\n",
    "pred = neural_network(input, weights)\n",
    "\n",
    "error = [0, 0, 0]\n",
    "delta = [0, 0, 0]\n",
    "\n",
    "for i in range(len(true)):\n",
    "    error[i] = (pred[i] - true[i]) ** 2\n",
    "    delta[i] = pred[i] - true[i]\n",
    "    \n",
    "weight_deltas = scalar_ele_mul(input, weights)\n",
    "alpha = 0.1\n",
    "\n",
    "for i in range(len(weights)):\n",
    "    weights[i] -= (weight_deltas[i] * alpha)\n",
    "    \n",
    "print(f'Weights: {weights}')\n",
    "print(f'Weight deltas: {weight_deltas}')"
   ]
  },
  {
   "cell_type": "code",
   "execution_count": null,
   "id": "4f834150",
   "metadata": {},
   "outputs": [],
   "source": []
  },
  {
   "cell_type": "code",
   "execution_count": null,
   "id": "4847b48a",
   "metadata": {},
   "outputs": [],
   "source": []
  },
  {
   "cell_type": "code",
   "execution_count": 11,
   "id": "9dea1b84",
   "metadata": {},
   "outputs": [],
   "source": [
    "# Обучение методом градиентного спуска с несколькими входами и выходами\n",
    "\n",
    "weights = [\n",
    "    [0.1, 0.1, -0.3],\n",
    "    [0.1, 0.2, 0.0],\n",
    "    [0.0, 1.3, 0.1],\n",
    "]\n",
    "\n",
    "\n",
    "def w_sum(a, b):\n",
    "    assert(len(a) == len(b))\n",
    "    \n",
    "    output = 0\n",
    "    \n",
    "    for i in range(len(a)):\n",
    "        output += (a[i] * b[i])\n",
    "    \n",
    "    return output\n",
    "\n",
    "\n",
    "def vect_mat_mul(vect, matrix):\n",
    "    assert(len(vect) == len(matrix))\n",
    "    \n",
    "    output = [0, 0, 0]\n",
    "    for i in range(len(vect)):\n",
    "        output[i] = w_sum(vect, matrix[i])\n",
    "    return output\n",
    "\n",
    "def neural_network(input, weights):\n",
    "    pred = vect_mat_mul(input, weights)\n",
    "    \n",
    "    return pred"
   ]
  },
  {
   "cell_type": "code",
   "execution_count": 12,
   "id": "72230f73",
   "metadata": {},
   "outputs": [],
   "source": [
    "toes = [8.5, 9.5, 9.9, 9.0]\n",
    "wlrec = [0.65, 0.8, 0.8, 0.9]\n",
    "nfans = [1.2, 1.3, 0.5, 1.0]\n",
    "\n",
    "hurt = [0.1, 0.0, 0.0, 0.1]\n",
    "win = [1, 1, 0, 1]\n",
    "sad = [0.1, 0.0, 0.1, 0.2]\n",
    "\n",
    "alpha = 0.1\n",
    "\n",
    "input = [toes[0], wlrec[0], nfans[0]]\n",
    "true = [hurt[0], win[0], sad[0]]\n",
    "\n",
    "pred = neural_network(input, weights)\n",
    "\n",
    "error = [0, 0, 0]\n",
    "delta = [0, 0, 0]\n",
    "\n",
    "for i in range(len(true)):\n",
    "    error[i] = (pred[i] - true[i]) ** 2\n",
    "    delta[i] = pred[i] - true[i]"
   ]
  },
  {
   "cell_type": "code",
   "execution_count": 13,
   "id": "415da7f0",
   "metadata": {},
   "outputs": [],
   "source": [
    "import numpy as np\n",
    "\n",
    "def outer_prod(a, b):\n",
    "    \n",
    "    out = np.zeros((len(a), len(b)))\n",
    "\n",
    "    for i in range(len(a)):\n",
    "        for j in range(len(b)):\n",
    "            out[i][j] = a[i] * b[j]\n",
    "    return out\n",
    "\n",
    "weight_deltas = outer_prod(delta,input)\n",
    "\n",
    "for i in range(len(weights)):\n",
    "    for j in range(len(weights[0])):\n",
    "        weights[i][j] -= alpha * weight_deltas[i][j]"
   ]
  },
  {
   "cell_type": "code",
   "execution_count": null,
   "id": "a8a743e6",
   "metadata": {},
   "outputs": [],
   "source": []
  }
 ],
 "metadata": {
  "kernelspec": {
   "display_name": "Python 3",
   "language": "python",
   "name": "python3"
  },
  "language_info": {
   "codemirror_mode": {
    "name": "ipython",
    "version": 3
   },
   "file_extension": ".py",
   "mimetype": "text/x-python",
   "name": "python",
   "nbconvert_exporter": "python",
   "pygments_lexer": "ipython3",
   "version": "3.8.6"
  }
 },
 "nbformat": 4,
 "nbformat_minor": 5
}
